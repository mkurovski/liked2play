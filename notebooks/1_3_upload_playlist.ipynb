{
 "cells": [
  {
   "cell_type": "code",
   "execution_count": 1,
   "metadata": {},
   "outputs": [],
   "source": [
    "import base64\n",
    "import os\n",
    "import sys\n",
    "import math\n",
    "import logging\n",
    "from pathlib import Path\n",
    "\n",
    "import numpy as np\n",
    "import pandas as pd\n",
    "import scipy as sp\n",
    "import sklearn\n",
    "import statsmodels.api as sm\n",
    "from statsmodels.formula.api import ols\n",
    "\n",
    "%load_ext autoreload\n",
    "%autoreload 2\n",
    "\n",
    "import matplotlib as mpl\n",
    "import matplotlib.pyplot as plt\n",
    "%matplotlib inline\n",
    "%config InlineBackend.figure_format = 'retina'\n",
    "\n",
    "import seaborn as sns\n",
    "sns.set_context(\"poster\")\n",
    "sns.set(rc={\"figure.figsize\": (16, 9.)})\n",
    "sns.set_style(\"whitegrid\")\n",
    "\n",
    "import pandas as pd\n",
    "pd.set_option(\"display.max_rows\", 120)\n",
    "pd.set_option(\"display.max_columns\", 120)\n",
    "\n",
    "logging.basicConfig(level=logging.INFO, stream=sys.stdout)"
   ]
  },
  {
   "cell_type": "raw",
   "metadata": {},
   "source": [
    "from liked2play import *"
   ]
  },
  {
   "cell_type": "code",
   "execution_count": 2,
   "metadata": {},
   "outputs": [],
   "source": [
    "import spotipy\n",
    "from spotipy.oauth2 import SpotifyOAuth"
   ]
  },
  {
   "cell_type": "code",
   "execution_count": 3,
   "metadata": {},
   "outputs": [],
   "source": [
    "playlist = pd.read_csv(\"../data/interim/recommended_playlist.csv\")"
   ]
  },
  {
   "cell_type": "code",
   "execution_count": 4,
   "metadata": {},
   "outputs": [
    {
     "data": {
      "text/html": [
       "<div>\n",
       "<style scoped>\n",
       "    .dataframe tbody tr th:only-of-type {\n",
       "        vertical-align: middle;\n",
       "    }\n",
       "\n",
       "    .dataframe tbody tr th {\n",
       "        vertical-align: top;\n",
       "    }\n",
       "\n",
       "    .dataframe thead th {\n",
       "        text-align: right;\n",
       "    }\n",
       "</style>\n",
       "<table border=\"1\" class=\"dataframe\">\n",
       "  <thead>\n",
       "    <tr style=\"text-align: right;\">\n",
       "      <th></th>\n",
       "      <th>artist</th>\n",
       "      <th>album</th>\n",
       "      <th>track_x</th>\n",
       "      <th>uri</th>\n",
       "      <th>id</th>\n",
       "      <th>artist_track</th>\n",
       "      <th>track_y</th>\n",
       "      <th>count</th>\n",
       "      <th>date</th>\n",
       "      <th>danceability</th>\n",
       "      <th>energy</th>\n",
       "      <th>key</th>\n",
       "      <th>loudness</th>\n",
       "      <th>mode</th>\n",
       "      <th>speechiness</th>\n",
       "      <th>acousticness</th>\n",
       "      <th>instrumentalness</th>\n",
       "      <th>liveness</th>\n",
       "      <th>valence</th>\n",
       "      <th>tempo</th>\n",
       "      <th>type</th>\n",
       "      <th>track_href</th>\n",
       "      <th>analysis_url</th>\n",
       "      <th>duration_ms</th>\n",
       "      <th>time_signature</th>\n",
       "    </tr>\n",
       "  </thead>\n",
       "  <tbody>\n",
       "    <tr>\n",
       "      <th>0</th>\n",
       "      <td>Maelo Ruiz</td>\n",
       "      <td>En Tiempo de Amor</td>\n",
       "      <td>Te Va a Doler</td>\n",
       "      <td>spotify:track:2h6WIOkTPvHSAD7vR6lMSS</td>\n",
       "      <td>2h6WIOkTPvHSAD7vR6lMSS</td>\n",
       "      <td>Maelo Ruiz: Te Va a Doler</td>\n",
       "      <td>NaN</td>\n",
       "      <td>0.0</td>\n",
       "      <td>NaN</td>\n",
       "      <td>0.610</td>\n",
       "      <td>0.849</td>\n",
       "      <td>8</td>\n",
       "      <td>-4.382</td>\n",
       "      <td>1</td>\n",
       "      <td>0.0461</td>\n",
       "      <td>0.407</td>\n",
       "      <td>0.0000</td>\n",
       "      <td>0.2800</td>\n",
       "      <td>0.742</td>\n",
       "      <td>177.634</td>\n",
       "      <td>audio_features</td>\n",
       "      <td>https://api.spotify.com/v1/tracks/2h6WIOkTPvHS...</td>\n",
       "      <td>https://api.spotify.com/v1/audio-analysis/2h6W...</td>\n",
       "      <td>292773</td>\n",
       "      <td>4</td>\n",
       "    </tr>\n",
       "    <tr>\n",
       "      <th>1</th>\n",
       "      <td>Oum Shatt</td>\n",
       "      <td>Gold to Straw</td>\n",
       "      <td>Gold to Straw</td>\n",
       "      <td>spotify:track:2Bo0wCPBd1rApHmb2NNwfe</td>\n",
       "      <td>2Bo0wCPBd1rApHmb2NNwfe</td>\n",
       "      <td>Oum Shatt: Gold to Straw</td>\n",
       "      <td>NaN</td>\n",
       "      <td>0.0</td>\n",
       "      <td>NaN</td>\n",
       "      <td>0.729</td>\n",
       "      <td>0.728</td>\n",
       "      <td>7</td>\n",
       "      <td>-6.689</td>\n",
       "      <td>1</td>\n",
       "      <td>0.0555</td>\n",
       "      <td>0.676</td>\n",
       "      <td>0.2110</td>\n",
       "      <td>0.3400</td>\n",
       "      <td>0.543</td>\n",
       "      <td>175.972</td>\n",
       "      <td>audio_features</td>\n",
       "      <td>https://api.spotify.com/v1/tracks/2Bo0wCPBd1rA...</td>\n",
       "      <td>https://api.spotify.com/v1/audio-analysis/2Bo0...</td>\n",
       "      <td>191796</td>\n",
       "      <td>4</td>\n",
       "    </tr>\n",
       "    <tr>\n",
       "      <th>2</th>\n",
       "      <td>Eliza Shaddad</td>\n",
       "      <td>Waters EP</td>\n",
       "      <td>Waters</td>\n",
       "      <td>spotify:track:5FMVdRkv36REATP2FcHOnH</td>\n",
       "      <td>5FMVdRkv36REATP2FcHOnH</td>\n",
       "      <td>Eliza Shaddad: Waters</td>\n",
       "      <td>NaN</td>\n",
       "      <td>0.0</td>\n",
       "      <td>NaN</td>\n",
       "      <td>0.595</td>\n",
       "      <td>0.515</td>\n",
       "      <td>5</td>\n",
       "      <td>-11.595</td>\n",
       "      <td>0</td>\n",
       "      <td>0.0595</td>\n",
       "      <td>0.301</td>\n",
       "      <td>0.0662</td>\n",
       "      <td>0.0971</td>\n",
       "      <td>0.377</td>\n",
       "      <td>128.978</td>\n",
       "      <td>audio_features</td>\n",
       "      <td>https://api.spotify.com/v1/tracks/5FMVdRkv36RE...</td>\n",
       "      <td>https://api.spotify.com/v1/audio-analysis/5FMV...</td>\n",
       "      <td>310139</td>\n",
       "      <td>4</td>\n",
       "    </tr>\n",
       "    <tr>\n",
       "      <th>3</th>\n",
       "      <td>Lost Frequencies</td>\n",
       "      <td>Are You with Me (Dash Berlin Remix)</td>\n",
       "      <td>Are You with Me - Dash Berlin Radio Edit</td>\n",
       "      <td>spotify:track:2iT0XHIKh3fxEYOnFI4YaS</td>\n",
       "      <td>2iT0XHIKh3fxEYOnFI4YaS</td>\n",
       "      <td>Lost Frequencies: Are You with Me - Dash Berli...</td>\n",
       "      <td>NaN</td>\n",
       "      <td>0.0</td>\n",
       "      <td>NaN</td>\n",
       "      <td>0.532</td>\n",
       "      <td>0.768</td>\n",
       "      <td>8</td>\n",
       "      <td>-3.053</td>\n",
       "      <td>1</td>\n",
       "      <td>0.0547</td>\n",
       "      <td>0.227</td>\n",
       "      <td>0.0000</td>\n",
       "      <td>0.2020</td>\n",
       "      <td>0.647</td>\n",
       "      <td>128.060</td>\n",
       "      <td>audio_features</td>\n",
       "      <td>https://api.spotify.com/v1/tracks/2iT0XHIKh3fx...</td>\n",
       "      <td>https://api.spotify.com/v1/audio-analysis/2iT0...</td>\n",
       "      <td>168095</td>\n",
       "      <td>4</td>\n",
       "    </tr>\n",
       "    <tr>\n",
       "      <th>4</th>\n",
       "      <td>Racing Glaciers</td>\n",
       "      <td>Ahead Of You Forever</td>\n",
       "      <td>Moths</td>\n",
       "      <td>spotify:track:7gJ6iD1ktnypMxCRTyLV1f</td>\n",
       "      <td>7gJ6iD1ktnypMxCRTyLV1f</td>\n",
       "      <td>Racing Glaciers: Moths</td>\n",
       "      <td>NaN</td>\n",
       "      <td>0.0</td>\n",
       "      <td>NaN</td>\n",
       "      <td>0.553</td>\n",
       "      <td>0.799</td>\n",
       "      <td>6</td>\n",
       "      <td>-8.755</td>\n",
       "      <td>0</td>\n",
       "      <td>0.0538</td>\n",
       "      <td>0.293</td>\n",
       "      <td>0.2040</td>\n",
       "      <td>0.1370</td>\n",
       "      <td>0.564</td>\n",
       "      <td>127.973</td>\n",
       "      <td>audio_features</td>\n",
       "      <td>https://api.spotify.com/v1/tracks/7gJ6iD1ktnyp...</td>\n",
       "      <td>https://api.spotify.com/v1/audio-analysis/7gJ6...</td>\n",
       "      <td>244425</td>\n",
       "      <td>4</td>\n",
       "    </tr>\n",
       "  </tbody>\n",
       "</table>\n",
       "</div>"
      ],
      "text/plain": [
       "             artist                                album  \\\n",
       "0        Maelo Ruiz                    En Tiempo de Amor   \n",
       "1         Oum Shatt                        Gold to Straw   \n",
       "2     Eliza Shaddad                            Waters EP   \n",
       "3  Lost Frequencies  Are You with Me (Dash Berlin Remix)   \n",
       "4   Racing Glaciers                 Ahead Of You Forever   \n",
       "\n",
       "                                    track_x  \\\n",
       "0                             Te Va a Doler   \n",
       "1                             Gold to Straw   \n",
       "2                                    Waters   \n",
       "3  Are You with Me - Dash Berlin Radio Edit   \n",
       "4                                     Moths   \n",
       "\n",
       "                                    uri                      id  \\\n",
       "0  spotify:track:2h6WIOkTPvHSAD7vR6lMSS  2h6WIOkTPvHSAD7vR6lMSS   \n",
       "1  spotify:track:2Bo0wCPBd1rApHmb2NNwfe  2Bo0wCPBd1rApHmb2NNwfe   \n",
       "2  spotify:track:5FMVdRkv36REATP2FcHOnH  5FMVdRkv36REATP2FcHOnH   \n",
       "3  spotify:track:2iT0XHIKh3fxEYOnFI4YaS  2iT0XHIKh3fxEYOnFI4YaS   \n",
       "4  spotify:track:7gJ6iD1ktnypMxCRTyLV1f  7gJ6iD1ktnypMxCRTyLV1f   \n",
       "\n",
       "                                        artist_track  track_y  count  date  \\\n",
       "0                          Maelo Ruiz: Te Va a Doler      NaN    0.0   NaN   \n",
       "1                           Oum Shatt: Gold to Straw      NaN    0.0   NaN   \n",
       "2                              Eliza Shaddad: Waters      NaN    0.0   NaN   \n",
       "3  Lost Frequencies: Are You with Me - Dash Berli...      NaN    0.0   NaN   \n",
       "4                             Racing Glaciers: Moths      NaN    0.0   NaN   \n",
       "\n",
       "   danceability  energy  key  loudness  mode  speechiness  acousticness  \\\n",
       "0         0.610   0.849    8    -4.382     1       0.0461         0.407   \n",
       "1         0.729   0.728    7    -6.689     1       0.0555         0.676   \n",
       "2         0.595   0.515    5   -11.595     0       0.0595         0.301   \n",
       "3         0.532   0.768    8    -3.053     1       0.0547         0.227   \n",
       "4         0.553   0.799    6    -8.755     0       0.0538         0.293   \n",
       "\n",
       "   instrumentalness  liveness  valence    tempo            type  \\\n",
       "0            0.0000    0.2800    0.742  177.634  audio_features   \n",
       "1            0.2110    0.3400    0.543  175.972  audio_features   \n",
       "2            0.0662    0.0971    0.377  128.978  audio_features   \n",
       "3            0.0000    0.2020    0.647  128.060  audio_features   \n",
       "4            0.2040    0.1370    0.564  127.973  audio_features   \n",
       "\n",
       "                                          track_href  \\\n",
       "0  https://api.spotify.com/v1/tracks/2h6WIOkTPvHS...   \n",
       "1  https://api.spotify.com/v1/tracks/2Bo0wCPBd1rA...   \n",
       "2  https://api.spotify.com/v1/tracks/5FMVdRkv36RE...   \n",
       "3  https://api.spotify.com/v1/tracks/2iT0XHIKh3fx...   \n",
       "4  https://api.spotify.com/v1/tracks/7gJ6iD1ktnyp...   \n",
       "\n",
       "                                        analysis_url  duration_ms  \\\n",
       "0  https://api.spotify.com/v1/audio-analysis/2h6W...       292773   \n",
       "1  https://api.spotify.com/v1/audio-analysis/2Bo0...       191796   \n",
       "2  https://api.spotify.com/v1/audio-analysis/5FMV...       310139   \n",
       "3  https://api.spotify.com/v1/audio-analysis/2iT0...       168095   \n",
       "4  https://api.spotify.com/v1/audio-analysis/7gJ6...       244425   \n",
       "\n",
       "   time_signature  \n",
       "0               4  \n",
       "1               4  \n",
       "2               4  \n",
       "3               4  \n",
       "4               4  "
      ]
     },
     "execution_count": 4,
     "metadata": {},
     "output_type": "execute_result"
    }
   ],
   "source": [
    "playlist.head()"
   ]
  },
  {
   "cell_type": "markdown",
   "metadata": {},
   "source": [
    "## Create the corresponding Playlist in Spotify"
   ]
  },
  {
   "cell_type": "markdown",
   "metadata": {},
   "source": [
    "- `playlist_add_items`\n",
    "- `user_playlist_create`"
   ]
  },
  {
   "cell_type": "code",
   "execution_count": 5,
   "metadata": {},
   "outputs": [],
   "source": [
    "GDPR_DATA_FOLDER = \"../data/raw/MyData/\"\n",
    "client_id_path = \"../secrets/client_id.txt\"\n",
    "client_secret_path = \"../secrets/client_secret.txt\"\n",
    "user_id_path = \"../secrets/user_id.txt\"\n",
    "\n",
    "# TODO: put everything into a single json file\n",
    "\n",
    "with open(client_id_path, \"r\") as file:\n",
    "    client_id = file.read().strip(\"\\n\")\n",
    "    \n",
    "with open(client_secret_path, \"r\") as file:\n",
    "    client_secret = file.read().strip(\"\\n\")\n",
    "    \n",
    "with open(user_id_path, \"r\") as file:\n",
    "    user_id = file.read().strip(\"\\n\")"
   ]
  },
  {
   "cell_type": "code",
   "execution_count": 6,
   "metadata": {},
   "outputs": [],
   "source": [
    "scope = \"playlist-modify-public\""
   ]
  },
  {
   "cell_type": "code",
   "execution_count": 7,
   "metadata": {
    "tags": []
   },
   "outputs": [],
   "source": [
    "sp = spotipy.Spotify(auth_manager=SpotifyOAuth(client_id=client_id,\n",
    "                                               client_secret=client_secret,\n",
    "                                               redirect_uri=\"http://example.com\",\n",
    "                                               scope=scope))"
   ]
  },
  {
   "cell_type": "code",
   "execution_count": 8,
   "metadata": {},
   "outputs": [],
   "source": [
    "playlist_name = \"Your Rediscover Past\"\n",
    "description = \"Listen to your favorite liked songs you haven't listened to for more than a year\""
   ]
  },
  {
   "cell_type": "code",
   "execution_count": 9,
   "metadata": {},
   "outputs": [
    {
     "name": "stdout",
     "output_type": "stream",
     "text": [
      "INFO:spotipy.oauth2:User authentication requires interaction with your web browser. Once you enter your credentials and give authorization, you will be redirected to a url.  Paste that url you were directed to to complete the authorization.\n",
      "INFO:spotipy.oauth2:Opened https://accounts.spotify.com/authorize?client_id=ebf506b727774376b8251703a8ba8b4d&response_type=code&redirect_uri=http%3A%2F%2Fexample.com&scope=playlist-modify-public in your browser\n"
     ]
    },
    {
     "name": "stdin",
     "output_type": "stream",
     "text": [
      "Enter the URL you were redirected to:  http://example.com/?code=AQDKzxzBuNsXqjxVCRclnOIxuZN8sgxaJbJiP0D1-_l8rBnbxTOyL_1xBn9d1O5cTP3Mg3PlixdBuB6HxRKzpnfPCwKpTqCnY4yZcqSIXCfh2UQ1ZOZDb0jXBwMCFMxfiKxAvgrpTDBrVF3eUOhvm0KvsnlUDrcjoWpbpHUB_flS82FQoHBVz2vl7rVKRQ\n"
     ]
    }
   ],
   "source": [
    "res = sp.user_playlist_create(user=user_id, name=playlist_name, description=description)"
   ]
  },
  {
   "cell_type": "code",
   "execution_count": 10,
   "metadata": {},
   "outputs": [],
   "source": [
    "playlist_id = res[\"id\"]"
   ]
  },
  {
   "cell_type": "code",
   "execution_count": 11,
   "metadata": {},
   "outputs": [
    {
     "data": {
      "text/plain": [
       "'5H5m4v4jmcyUfHaA5OUwCJ'"
      ]
     },
     "execution_count": 11,
     "metadata": {},
     "output_type": "execute_result"
    }
   ],
   "source": [
    "playlist_id"
   ]
  },
  {
   "cell_type": "code",
   "execution_count": 12,
   "metadata": {},
   "outputs": [
    {
     "data": {
      "text/plain": [
       "{'snapshot_id': 'Myw1MWM0MGUyZDQ5Y2NmZTg4M2Y4ODE3NmIwY2IwYWViYmVkNGYyNGU2'}"
      ]
     },
     "execution_count": 12,
     "metadata": {},
     "output_type": "execute_result"
    }
   ],
   "source": [
    "sp.playlist_add_items(playlist_id, playlist[\"uri\"].tolist())"
   ]
  },
  {
   "cell_type": "markdown",
   "metadata": {},
   "source": [
    "## Change the Playlist Cover Image Acordingly"
   ]
  },
  {
   "cell_type": "markdown",
   "metadata": {},
   "source": [
    "Before uploading our cover image, we need to refresh our access token.\n",
    "- https://github.com/plamere/spotipy/issues/749\n",
    "- https://community.spotify.com/t5/Spotify-for-Developers/Bug-Uploading-cover-image-not-working-with-un-refreshed-access/m-p/5156729#M2056"
   ]
  },
  {
   "cell_type": "code",
   "execution_count": 13,
   "metadata": {},
   "outputs": [],
   "source": [
    "scope = \"ugc-image-upload\"\n",
    "\n",
    "filename = \"cover_rediscover_past.jpg\""
   ]
  },
  {
   "cell_type": "code",
   "execution_count": 15,
   "metadata": {},
   "outputs": [],
   "source": [
    "image = open(f'../img/{filename}', 'rb') #open binary file in read mode\n",
    "image_read = image.read()\n",
    "image_64_encode = base64.b64encode(image_read).decode(\"utf-8\") "
   ]
  },
  {
   "cell_type": "code",
   "execution_count": null,
   "metadata": {},
   "outputs": [],
   "source": [
    "refresh_token = sp.auth_manager.get_cached_token()[\"refresh_token\"]\n",
    "sp.auth_manager.refresh_access_token(refresh_token)"
   ]
  },
  {
   "cell_type": "code",
   "execution_count": 25,
   "metadata": {},
   "outputs": [],
   "source": [
    "sp.playlist_upload_cover_image(playlist_id, image_64_encode)"
   ]
  }
 ],
 "metadata": {
  "kernelspec": {
   "display_name": "Python 3 (ipykernel)",
   "language": "python",
   "name": "python3"
  },
  "language_info": {
   "codemirror_mode": {
    "name": "ipython",
    "version": 3
   },
   "file_extension": ".py",
   "mimetype": "text/x-python",
   "name": "python",
   "nbconvert_exporter": "python",
   "pygments_lexer": "ipython3",
   "version": "3.9.9"
  },
  "pycharm": {
   "stem_cell": {
    "cell_type": "raw",
    "metadata": {
     "collapsed": false
    },
    "source": []
   }
  }
 },
 "nbformat": 4,
 "nbformat_minor": 4
}
